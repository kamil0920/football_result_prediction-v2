{
 "cells": [
  {
   "cell_type": "code",
   "id": "initial_id",
   "metadata": {
    "collapsed": true,
    "ExecuteTime": {
     "end_time": "2025-01-11T13:58:20.223576Z",
     "start_time": "2025-01-11T13:58:19.848865Z"
    }
   },
   "source": [
    "import matplotlib.pyplot as plt\n",
    "import pandas as pd\n",
    "import numpy as np"
   ],
   "outputs": [],
   "execution_count": 1
  },
  {
   "metadata": {
    "ExecuteTime": {
     "end_time": "2025-01-11T13:58:20.602867Z",
     "start_time": "2025-01-11T13:58:20.226036Z"
    }
   },
   "cell_type": "code",
   "source": [
    "raw_df_match_details = pd.read_csv('../data/raw/match_details.csv')\n",
    "raw_df_player_attr = pd.read_csv('../data/raw/player_attributes.csv')"
   ],
   "id": "f333b48b9f48e5fb",
   "outputs": [],
   "execution_count": 2
  },
  {
   "metadata": {
    "ExecuteTime": {
     "end_time": "2025-01-11T13:58:20.668980Z",
     "start_time": "2025-01-11T13:58:20.667413Z"
    }
   },
   "cell_type": "code",
   "source": "# raw_df_match_details.info()",
   "id": "cd38221b11a80104",
   "outputs": [],
   "execution_count": 3
  },
  {
   "metadata": {
    "ExecuteTime": {
     "end_time": "2025-01-11T13:58:20.711793Z",
     "start_time": "2025-01-11T13:58:20.710085Z"
    }
   },
   "cell_type": "code",
   "source": "# raw_df_player_attr.info()",
   "id": "dda506cd81594db0",
   "outputs": [],
   "execution_count": 4
  },
  {
   "metadata": {
    "ExecuteTime": {
     "end_time": "2025-01-11T13:58:20.777961Z",
     "start_time": "2025-01-11T13:58:20.753892Z"
    }
   },
   "cell_type": "code",
   "source": [
    "raw_df_match_details['date'] = pd.to_datetime(raw_df_match_details['date'])\n",
    "raw_df_player_attr['date'] = pd.to_datetime(raw_df_player_attr['date'])\n",
    "raw_df_match_details.sort_values(by='date', inplace=True)\n",
    "raw_df_match_details[['season', 'result_match']] = raw_df_match_details[['season', 'result_match']].astype('category')"
   ],
   "id": "15b8599fabe8258e",
   "outputs": [],
   "execution_count": 5
  },
  {
   "metadata": {
    "ExecuteTime": {
     "end_time": "2025-01-11T13:59:04.361893Z",
     "start_time": "2025-01-11T13:58:20.806574Z"
    }
   },
   "cell_type": "code",
   "source": [
    "from playerstats import player_stats\n",
    "\n",
    "players_cols = ['{}_player_{}'.format(team, i) for team in ['home', 'away'] for i in range(1, 12)]\n",
    "\n",
    "player_stats_dict_series = raw_df_match_details.apply(\n",
    "    lambda row: player_stats.calculate_player_stat_(\n",
    "        match_row=row,\n",
    "        df_matches=raw_df_match_details,\n",
    "        df_player_attr=raw_df_player_attr,\n",
    "        players=players_cols\n",
    "    ),\n",
    "    axis=1\n",
    ")\n",
    "\n",
    "new_player_stats_df = pd.json_normalize(player_stats_dict_series)\n",
    "\n",
    "df = pd.merge(raw_df_match_details, new_player_stats_df, how='left', on='match_api_id')\n",
    "df.drop(players_cols, axis=1, inplace=True)"
   ],
   "id": "212ed3e74d48a211",
   "outputs": [],
   "execution_count": 6
  },
  {
   "metadata": {
    "ExecuteTime": {
     "end_time": "2025-01-11T13:59:04.382954Z",
     "start_time": "2025-01-11T13:59:04.377764Z"
    }
   },
   "cell_type": "code",
   "source": "df.info()",
   "id": "10eef9a57b0f69fc",
   "outputs": [
    {
     "name": "stdout",
     "output_type": "stream",
     "text": [
      "<class 'pandas.core.frame.DataFrame'>\n",
      "RangeIndex: 3040 entries, 0 to 3039\n",
      "Data columns (total 37 columns):\n",
      " #   Column                        Non-Null Count  Dtype         \n",
      "---  ------                        --------------  -----         \n",
      " 0   match_api_id                  3040 non-null   int64         \n",
      " 1   season                        3040 non-null   category      \n",
      " 2   stage                         3040 non-null   int64         \n",
      " 3   date                          3040 non-null   datetime64[ns]\n",
      " 4   away_team                     3040 non-null   int64         \n",
      " 5   home_team                     3040 non-null   int64         \n",
      " 6   home_team_goal                3040 non-null   int64         \n",
      " 7   away_team_goal                3040 non-null   int64         \n",
      " 8   possession                    3040 non-null   object        \n",
      " 9   shoton                        3040 non-null   object        \n",
      " 10  result_match                  3040 non-null   category      \n",
      " 11  home_possession               3040 non-null   int64         \n",
      " 12  away_possession               3040 non-null   int64         \n",
      " 13  away_shoton                   3040 non-null   int64         \n",
      " 14  home_shoton                   3040 non-null   int64         \n",
      " 15  player_rating_home_player_1   3040 non-null   float64       \n",
      " 16  player_rating_home_player_2   3040 non-null   float64       \n",
      " 17  player_rating_home_player_3   3040 non-null   float64       \n",
      " 18  player_rating_home_player_4   3040 non-null   float64       \n",
      " 19  player_rating_home_player_5   3040 non-null   float64       \n",
      " 20  player_rating_home_player_6   3040 non-null   float64       \n",
      " 21  player_rating_home_player_7   3040 non-null   float64       \n",
      " 22  player_rating_home_player_8   3039 non-null   float64       \n",
      " 23  player_rating_home_player_9   3040 non-null   float64       \n",
      " 24  player_rating_home_player_10  3040 non-null   float64       \n",
      " 25  player_rating_home_player_11  3040 non-null   float64       \n",
      " 26  player_rating_away_player_1   3040 non-null   float64       \n",
      " 27  player_rating_away_player_2   3040 non-null   float64       \n",
      " 28  player_rating_away_player_3   3040 non-null   float64       \n",
      " 29  player_rating_away_player_4   3040 non-null   float64       \n",
      " 30  player_rating_away_player_5   3040 non-null   float64       \n",
      " 31  player_rating_away_player_6   3040 non-null   float64       \n",
      " 32  player_rating_away_player_7   3040 non-null   float64       \n",
      " 33  player_rating_away_player_8   3040 non-null   float64       \n",
      " 34  player_rating_away_player_9   3039 non-null   float64       \n",
      " 35  player_rating_away_player_10  3040 non-null   float64       \n",
      " 36  player_rating_away_player_11  3040 non-null   float64       \n",
      "dtypes: category(2), datetime64[ns](1), float64(22), int64(10), object(2)\n",
      "memory usage: 837.8+ KB\n"
     ]
    }
   ],
   "execution_count": 7
  },
  {
   "metadata": {
    "ExecuteTime": {
     "end_time": "2025-01-11T13:59:04.428562Z",
     "start_time": "2025-01-11T13:59:04.427151Z"
    }
   },
   "cell_type": "code",
   "source": "",
   "id": "72b4e08ea869f21c",
   "outputs": [],
   "execution_count": null
  }
 ],
 "metadata": {
  "kernelspec": {
   "display_name": "Python 3",
   "language": "python",
   "name": "python3"
  },
  "language_info": {
   "codemirror_mode": {
    "name": "ipython",
    "version": 2
   },
   "file_extension": ".py",
   "mimetype": "text/x-python",
   "name": "python",
   "nbconvert_exporter": "python",
   "pygments_lexer": "ipython2",
   "version": "2.7.6"
  }
 },
 "nbformat": 4,
 "nbformat_minor": 5
}
