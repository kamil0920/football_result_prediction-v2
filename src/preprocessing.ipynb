{
 "cells": [
  {
   "cell_type": "code",
   "id": "initial_id",
   "metadata": {
    "collapsed": true,
    "ExecuteTime": {
     "end_time": "2025-01-13T17:11:19.824267Z",
     "start_time": "2025-01-13T17:11:19.481646Z"
    }
   },
   "source": [
    "import matplotlib.pyplot as plt\n",
    "import pandas as pd\n",
    "import numpy as np"
   ],
   "outputs": [],
   "execution_count": 1
  },
  {
   "metadata": {
    "ExecuteTime": {
     "end_time": "2025-01-13T17:11:20.118267Z",
     "start_time": "2025-01-13T17:11:19.827057Z"
    }
   },
   "cell_type": "code",
   "source": [
    "raw_df_match_details = pd.read_csv('../data/raw/match_details.csv')\n",
    "raw_df_player_attr = pd.read_csv('../data/raw/player_attributes.csv')"
   ],
   "id": "f333b48b9f48e5fb",
   "outputs": [],
   "execution_count": 2
  },
  {
   "metadata": {
    "ExecuteTime": {
     "end_time": "2025-01-13T17:11:21.578507Z",
     "start_time": "2025-01-13T17:11:20.176569Z"
    }
   },
   "cell_type": "code",
   "source": [
    "raw_df_player_attr['overall_rating_last_5'] = raw_df_player_attr.groupby('player_api_id')['overall_rating'].transform(\n",
    "    lambda x: x.shift().rolling(5).mean()\n",
    ")"
   ],
   "id": "fe6bf8fef41b8ab7",
   "outputs": [],
   "execution_count": 3
  },
  {
   "metadata": {
    "ExecuteTime": {
     "end_time": "2025-01-13T17:11:21.589091Z",
     "start_time": "2025-01-13T17:11:21.587597Z"
    }
   },
   "cell_type": "code",
   "source": "# raw_df_match_details.info()",
   "id": "cd38221b11a80104",
   "outputs": [],
   "execution_count": 4
  },
  {
   "metadata": {
    "ExecuteTime": {
     "end_time": "2025-01-13T17:11:21.630723Z",
     "start_time": "2025-01-13T17:11:21.628885Z"
    }
   },
   "cell_type": "code",
   "source": "# raw_df_player_attr.info()",
   "id": "dda506cd81594db0",
   "outputs": [],
   "execution_count": 5
  },
  {
   "metadata": {
    "ExecuteTime": {
     "end_time": "2025-01-13T17:11:21.674309Z",
     "start_time": "2025-01-13T17:11:21.672662Z"
    }
   },
   "cell_type": "code",
   "source": [
    "# (raw_df_match_details\n",
    "#  .assign(date=pd.to_datetime(raw_df_match_details['date']),\n",
    "#          season=pd.to_datetime(raw_df_match_details['season'].astype('')),)\n",
    "#  )"
   ],
   "id": "15b8599fabe8258e",
   "outputs": [],
   "execution_count": 6
  },
  {
   "metadata": {
    "ExecuteTime": {
     "end_time": "2025-01-13T17:11:21.740193Z",
     "start_time": "2025-01-13T17:11:21.716511Z"
    }
   },
   "cell_type": "code",
   "source": [
    "raw_df_match_details['date'] = pd.to_datetime(raw_df_match_details['date'])\n",
    "raw_df_player_attr['date'] = pd.to_datetime(raw_df_player_attr['date'])\n",
    "raw_df_match_details.sort_values(by='date', inplace=True)"
   ],
   "id": "93a984c562e89f6",
   "outputs": [],
   "execution_count": 7
  },
  {
   "metadata": {
    "ExecuteTime": {
     "end_time": "2025-01-13T17:12:13.992561Z",
     "start_time": "2025-01-13T17:11:21.767384Z"
    }
   },
   "cell_type": "code",
   "source": [
    "from playerstats import player_stats\n",
    "\n",
    "players_cols = ['{}_player_{}'.format(team, i) for team in ['home', 'away'] for i in range(1, 12)]\n",
    "\n",
    "player_stats_dict_series = raw_df_match_details.apply(\n",
    "    lambda row: player_stats.calculate_player_stat(\n",
    "        match_row=row,\n",
    "        df_matches=raw_df_match_details,\n",
    "        df_player_attr=raw_df_player_attr,\n",
    "        players=players_cols\n",
    "    ),\n",
    "    axis=1\n",
    ")\n",
    "\n",
    "new_player_stats_df = pd.json_normalize(player_stats_dict_series)\n",
    "\n",
    "df = pd.merge(raw_df_match_details, new_player_stats_df, how='left', on='match_api_id')\n",
    "df.drop(players_cols, axis=1, inplace=True)\n",
    "matching_columns = [col for col in df.columns if 'player_rating' in col]\n",
    "df.dropna(subset=matching_columns, inplace=True)"
   ],
   "id": "212ed3e74d48a211",
   "outputs": [],
   "execution_count": 8
  },
  {
   "metadata": {},
   "cell_type": "code",
   "outputs": [],
   "execution_count": null,
   "source": "",
   "id": "aaaf57a2d3e379e3"
  }
 ],
 "metadata": {
  "kernelspec": {
   "display_name": "Python 3",
   "language": "python",
   "name": "python3"
  },
  "language_info": {
   "codemirror_mode": {
    "name": "ipython",
    "version": 2
   },
   "file_extension": ".py",
   "mimetype": "text/x-python",
   "name": "python",
   "nbconvert_exporter": "python",
   "pygments_lexer": "ipython2",
   "version": "2.7.6"
  }
 },
 "nbformat": 4,
 "nbformat_minor": 5
}
