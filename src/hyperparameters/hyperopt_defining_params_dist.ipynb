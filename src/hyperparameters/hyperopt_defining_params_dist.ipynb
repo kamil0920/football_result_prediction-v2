{
 "cells": [
  {
   "cell_type": "code",
   "execution_count": null,
   "id": "initial_id",
   "metadata": {
    "collapsed": true
   },
   "outputs": [],
   "source": [
    "from matplotlib import pyplot as plt\n",
    "from hyperopt import hp, pyll\n",
    "\n",
    "uniform_vals = [pyll.stochastic.sample(hp.uniform('value', 0, 1))\n",
    "for _ in range(10_000)]\n",
    "fig, ax = plt.subplots(figsize=(8, 4))\n",
    "ax.hist(uniform_vals)"
   ]
  },
  {
   "metadata": {},
   "cell_type": "code",
   "outputs": [],
   "execution_count": null,
   "source": [
    "loguniform_vals = [pyll.stochastic.sample(hp.loguniform('value', -5, 5))\n",
    "for _ in range(10_000)]\n",
    "fig, ax = plt.subplots(figsize=(8, 4))\n",
    "ax.hist(loguniform_vals)"
   ],
   "id": "76347341ba0270be"
  },
  {
   "metadata": {},
   "cell_type": "code",
   "outputs": [],
   "execution_count": null,
   "source": [
    "import pandas as pd\n",
    "import numpy as np\n",
    "\n",
    "fig, ax = plt.subplots(figsize=(8, 4))\n",
    "(pd.Series(np.arange(-5, 5, step=.1))\n",
    ".rename('x')\n",
    ".to_frame()\n",
    ".assign(y=lambda adf:np.exp(adf.x))\n",
    ".plot(x='x', y='y', ax=ax)\n",
    ")"
   ],
   "id": "7dcfacb1d0bf63b9"
  }
 ],
 "metadata": {
  "kernelspec": {
   "display_name": "Python 3",
   "language": "python",
   "name": "python3"
  },
  "language_info": {
   "codemirror_mode": {
    "name": "ipython",
    "version": 2
   },
   "file_extension": ".py",
   "mimetype": "text/x-python",
   "name": "python",
   "nbconvert_exporter": "python",
   "pygments_lexer": "ipython2",
   "version": "2.7.6"
  }
 },
 "nbformat": 4,
 "nbformat_minor": 5
}
