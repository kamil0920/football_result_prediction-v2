{
 "cells": [
  {
   "cell_type": "code",
   "id": "initial_id",
   "metadata": {
    "collapsed": true,
    "ExecuteTime": {
     "end_time": "2025-01-30T19:32:10.811097Z",
     "start_time": "2025-01-30T19:32:10.808870Z"
    }
   },
   "source": "from src.helper import get_split_data",
   "outputs": [],
   "execution_count": 1
  },
  {
   "metadata": {
    "ExecuteTime": {
     "end_time": "2025-01-30T19:32:11.044277Z",
     "start_time": "2025-01-30T19:32:11.027503Z"
    }
   },
   "cell_type": "code",
   "source": "X_trn, y_trn, X_val, y_val, X_tst, y_tst = get_split_data.split_data_for_training()",
   "id": "fe593a376a11cbb3",
   "outputs": [],
   "execution_count": 2
  },
  {
   "metadata": {},
   "cell_type": "code",
   "outputs": [],
   "execution_count": null,
   "source": "",
   "id": "c6fbfc3b44a71dff"
  }
 ],
 "metadata": {
  "kernelspec": {
   "display_name": "Python 3",
   "language": "python",
   "name": "python3"
  },
  "language_info": {
   "codemirror_mode": {
    "name": "ipython",
    "version": 2
   },
   "file_extension": ".py",
   "mimetype": "text/x-python",
   "name": "python",
   "nbconvert_exporter": "python",
   "pygments_lexer": "ipython2",
   "version": "2.7.6"
  }
 },
 "nbformat": 4,
 "nbformat_minor": 5
}
