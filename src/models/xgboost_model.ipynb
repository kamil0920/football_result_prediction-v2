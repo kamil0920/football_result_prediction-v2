{
 "cells": [
  {
   "cell_type": "code",
   "id": "initial_id",
   "metadata": {
    "collapsed": true,
    "ExecuteTime": {
     "end_time": "2025-02-01T11:03:58.441538Z",
     "start_time": "2025-02-01T11:03:58.231464Z"
    }
   },
   "source": [
    "%matplotlib inline\n",
    "\n",
    "import dtreeviz\n",
    "from feature_engine import encoding, imputation\n",
    "import matplotlib.pyplot as plt\n",
    "import numpy as np\n",
    "import pandas as pd\n",
    "from sklearn import base, compose, datasets, ensemble, metrics, model_selection, pipeline, preprocessing, tree\n",
    "import scikitplot\n",
    "import xgboost as xgb\n",
    "import yellowbrick.model_selection as ms\n",
    "from yellowbrick import classifier\n",
    "\n",
    "from src.helper import get_split_data"
   ],
   "outputs": [],
   "execution_count": 1
  },
  {
   "metadata": {
    "ExecuteTime": {
     "end_time": "2025-02-01T11:06:27.600493Z",
     "start_time": "2025-02-01T11:04:03.178277Z"
    }
   },
   "cell_type": "code",
   "source": [
    "X_trn, y_trn, X_val, y_val, X_tst, y_tst = get_split_data.split_data_for_training()\n",
    "\n",
    "# Combined Data for cross validation/etc\n",
    "X = pd.concat([X_trn, X_val], axis='index')\n",
    "y = pd.Series([*y_trn, *y_val], index=X.index)"
   ],
   "id": "fe593a376a11cbb3",
   "outputs": [],
   "execution_count": 2
  },
  {
   "metadata": {
    "ExecuteTime": {
     "end_time": "2025-02-01T11:02:55.638450Z",
     "start_time": "2025-02-01T11:02:55.458824Z"
    }
   },
   "cell_type": "code",
   "source": [
    "xg_oob = xgb.XGBClassifier()\n",
    "xg_oob.fit(X_trn, y_trn)\n",
    "xg_oob.score(X_val, y_val)"
   ],
   "id": "c6fbfc3b44a71dff",
   "outputs": [
    {
     "data": {
      "text/plain": [
       "0.3"
      ]
     },
     "execution_count": 3,
     "metadata": {},
     "output_type": "execute_result"
    }
   ],
   "execution_count": 3
  },
  {
   "metadata": {
    "ExecuteTime": {
     "end_time": "2025-02-01T11:02:55.757132Z",
     "start_time": "2025-02-01T11:02:55.655668Z"
    }
   },
   "cell_type": "code",
   "source": [
    "xg_oob = xgb.XGBClassifier()\n",
    "xg_oob.fit(X_trn, y_trn, verbose=False)\n",
    "y_pred = xg_oob.predict(X_tst)\n",
    "\n",
    "xg_oob.score(X_tst, y_tst)"
   ],
   "id": "d1311086d5d54ac0",
   "outputs": [
    {
     "data": {
      "text/plain": [
       "0.8"
      ]
     },
     "execution_count": 4,
     "metadata": {},
     "output_type": "execute_result"
    }
   ],
   "execution_count": 4
  },
  {
   "metadata": {
    "ExecuteTime": {
     "end_time": "2025-02-01T11:02:55.774783Z",
     "start_time": "2025-02-01T11:02:55.773561Z"
    }
   },
   "cell_type": "code",
   "source": "",
   "id": "6c773ad07b0e872e",
   "outputs": [],
   "execution_count": null
  }
 ],
 "metadata": {
  "kernelspec": {
   "display_name": "Python 3",
   "language": "python",
   "name": "python3"
  },
  "language_info": {
   "codemirror_mode": {
    "name": "ipython",
    "version": 2
   },
   "file_extension": ".py",
   "mimetype": "text/x-python",
   "name": "python",
   "nbconvert_exporter": "python",
   "pygments_lexer": "ipython2",
   "version": "2.7.6"
  }
 },
 "nbformat": 4,
 "nbformat_minor": 5
}
