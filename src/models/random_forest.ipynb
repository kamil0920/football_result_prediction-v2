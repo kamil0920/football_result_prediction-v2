{
 "cells": [
  {
   "metadata": {},
   "cell_type": "code",
   "source": "from src.helper import get_split_data",
   "id": "a3058b84427256d6",
   "outputs": [],
   "execution_count": null
  },
  {
   "metadata": {},
   "cell_type": "code",
   "source": "X_trn, y_trn, X_val, y_val, X_tst, y_tst = get_split_data.split_data_for_training(4)",
   "id": "f12140f35cf04591",
   "outputs": [],
   "execution_count": null
  },
  {
   "metadata": {},
   "cell_type": "code",
   "source": [
    "from sklearn import ensemble\n",
    "rf = ensemble.RandomForestClassifier(random_state=42)\n",
    "rf.fit(X_trn, y_trn)\n",
    "rf.score(X_tst, y_tst)"
   ],
   "id": "ece51e1870f76434",
   "outputs": [],
   "execution_count": null
  },
  {
   "metadata": {},
   "cell_type": "code",
   "source": "rf.get_params()",
   "id": "fdc9ccd62d1eb807",
   "outputs": [],
   "execution_count": null
  },
  {
   "metadata": {},
   "cell_type": "code",
   "source": "print(rf.estimators_[0])",
   "id": "4ac192aa59604b46",
   "outputs": [],
   "execution_count": null
  },
  {
   "metadata": {},
   "cell_type": "code",
   "source": [
    "from matplotlib import pyplot as plt\n",
    "from sklearn import  tree\n",
    "\n",
    "class_names_str = ['home_win' if cls == 1 else 'home_not_win' for cls in rf.classes_]\n",
    "\n",
    "fig, ax = plt.subplots(figsize=(8, 4))\n",
    "features = list(c for c in X_trn.columns)\n",
    "tree.plot_tree(rf.estimators_[0], feature_names=features,\n",
    "filled=True, class_names=class_names_str, ax=ax,\n",
    "max_depth=2, fontsize=6)"
   ],
   "id": "869db60d5ec7b104",
   "outputs": [],
   "execution_count": null
  },
  {
   "metadata": {},
   "cell_type": "code",
   "source": "",
   "id": "1e0c8e71a878cfa9",
   "outputs": [],
   "execution_count": null
  },
  {
   "metadata": {},
   "cell_type": "code",
   "source": [
    "import xgboost as xgb\n",
    "rf_xg = xgb.XGBRFClassifier(random_state=42)\n",
    "rf_xg.fit(X_trn, y_trn)\n",
    "rf_xg.score(X_tst, y_tst)"
   ],
   "id": "4e39795521274f93",
   "outputs": [],
   "execution_count": null
  },
  {
   "metadata": {},
   "cell_type": "code",
   "source": "rf_xg.get_params()",
   "id": "1fd60d1e1557da12",
   "outputs": [],
   "execution_count": null
  },
  {
   "metadata": {},
   "cell_type": "code",
   "source": [
    "from src.helper.plot_tree import my_dot_export\n",
    "\n",
    "fig, ax = plt.subplots(figsize=(6,12), dpi=600)\n",
    "xgb.plot_tree(rf_xg, num_trees=0, ax=ax, size='1,1')\n",
    "my_dot_export(rf_xg, num_trees=0, filename='img/rf_xg_kag.dot',\n",
    "title='First Random Forest Tree', direction='LR')"
   ],
   "id": "2e5e373a6f08c4d8",
   "outputs": [],
   "execution_count": null
  },
  {
   "metadata": {},
   "cell_type": "code",
   "source": [
    "import dtreeviz\n",
    "\n",
    "viz = dtreeviz.model(rf_xg, X_train=X_trn.dropna(axis=0), y_train=y_trn, target_name='Match result', feature_names=list(X_trn.columns), class_names=['not_win', 'win'], tree_index=0)\n",
    "viz.view(depth_range_to_display=[0,2])"
   ],
   "id": "47ea1cb7252f8985",
   "outputs": [],
   "execution_count": null
  },
  {
   "metadata": {},
   "cell_type": "code",
   "source": [
    "import numpy as np\n",
    "def inv_logit(p: float) -> float:\n",
    "    \"\"\"\n",
    "    Compute the inverse logit function of a given value.\n",
    "    The inverse logit function is defined as:\n",
    "    f(p) = exp(p) / (1 + exp(p))\n",
    "    Parameters\n",
    "    ----------\n",
    "    p : float\n",
    "    The input value to the inverse logit function.\n",
    "    Returns\n",
    "    -------\n",
    "    float\n",
    "    The output of the inverse logit function.\n",
    "    \"\"\"\n",
    "    return np.exp(p) / (1 + np.exp(p))"
   ],
   "id": "cbd6168c472e9c46",
   "outputs": [],
   "execution_count": null
  },
  {
   "metadata": {},
   "cell_type": "code",
   "source": "inv_logit(0.375)",
   "id": "582c5a93d331a78d",
   "outputs": [],
   "execution_count": null
  }
 ],
 "metadata": {
  "kernelspec": {
   "display_name": "Python 3",
   "language": "python",
   "name": "python3"
  },
  "language_info": {
   "codemirror_mode": {
    "name": "ipython",
    "version": 2
   },
   "file_extension": ".py",
   "mimetype": "text/x-python",
   "name": "python",
   "nbconvert_exporter": "python",
   "pygments_lexer": "ipython2",
   "version": "2.7.6"
  }
 },
 "nbformat": 4,
 "nbformat_minor": 5
}
