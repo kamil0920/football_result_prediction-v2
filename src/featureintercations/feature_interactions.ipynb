{
 "cells": [
  {
   "cell_type": "code",
   "id": "initial_id",
   "metadata": {
    "collapsed": true,
    "ExecuteTime": {
     "end_time": "2025-02-24T19:04:50.561660Z",
     "start_time": "2025-02-24T19:04:50.559338Z"
    }
   },
   "source": [
    "import pandas as pd\n",
    "from src.helper import get_split_data"
   ],
   "outputs": [],
   "execution_count": 1
  },
  {
   "metadata": {
    "ExecuteTime": {
     "end_time": "2025-02-24T19:04:50.582539Z",
     "start_time": "2025-02-24T19:04:50.563442Z"
    }
   },
   "cell_type": "code",
   "source": [
    "X_trn, y_trn, X_val, y_val, X_tst, y_tst = get_split_data.split_data_for_training(4)\n",
    "\n",
    "X = pd.concat([X_trn, X_val], axis='index')\n",
    "y = pd.Series([*y_trn, *y_val], index=X.index)"
   ],
   "id": "22505b709fd7bb28",
   "outputs": [],
   "execution_count": 2
  },
  {
   "metadata": {
    "ExecuteTime": {
     "end_time": "2025-02-24T19:04:51.020687Z",
     "start_time": "2025-02-24T19:04:50.654044Z"
    }
   },
   "cell_type": "code",
   "source": [
    "from sklearn.metrics import precision_score\n",
    "from xgboost import XGBClassifier\n",
    "\n",
    "params = {'colsample_bytree': 0.8604563037840777,\n",
    "          'gamma': 3.4674453268197127,\n",
    "          'learning_rate': 0.2905259345730205,\n",
    "          'max_depth': 9,\n",
    "          'n_estimators': 500,\n",
    "          'reg_alpha': 0.002112657933466668,\n",
    "          'reg_lambda': 0.040320307774314994,\n",
    "          'subsample': 0.8444448235278171,\n",
    "          }\n",
    "\n",
    "model = XGBClassifier(\n",
    "    **params,\n",
    "    random_state=42,\n",
    "    use_label_encoder=False,\n",
    "    eval_metric=\"logloss\",\n",
    "\n",
    ")\n",
    "\n",
    "model.fit(X_trn, y_trn, eval_set=[(X_trn, y_trn), (X_val, y_val)], verbose=False)\n",
    "y_pred = model.predict(X_tst)\n",
    "precision = precision_score(y_tst, y_pred, average=\"binary\", zero_division=0)\n",
    "precision"
   ],
   "id": "984b10166c25977c",
   "outputs": [
    {
     "data": {
      "text/plain": [
       "np.float64(0.0)"
      ]
     },
     "execution_count": 3,
     "metadata": {},
     "output_type": "execute_result"
    }
   ],
   "execution_count": 3
  },
  {
   "metadata": {
    "ExecuteTime": {
     "end_time": "2025-02-24T19:06:33.619090Z",
     "start_time": "2025-02-24T19:06:33.611733Z"
    }
   },
   "cell_type": "code",
   "source": [
    "constraints = [\n",
    "    ['points_difference', 'team_acceleration_home'],['points_difference', 'rolling_avg_goals_away'],['team_acceleration_home', 'team_strength_away'],['home_last_team_shoton', 'team_strength_away'],['team_aggression_away', 'team_strength_away'],['team_acceleration_home', 'team_aggression_home'],['strength_difference', 'team_acceleration_away'],['team_acceleration_away', 'team_aggression_home'],['team_acceleration_away', 'team_aggression_away'],['goal_conversion_rate_away', 'team_acceleration_home'],['rolling_avg_goals_home', 'team_acceleration_home'],['points_difference', 'team_acceleration_away'],['home_last_team_possession', 'team_acceleration_home'],['points_difference', 'team_aggression_home'],['team_acceleration_home', 'team_strength_home'],['away_last_team_goal', 'team_acceleration_away'],['team_aggression_home', 'team_aggression_home'],['aggression_difference', 'team_acceleration_away'],['away_last_team_possession', 'points_difference'],['acceleration_difference', 'team_acceleration_home'],['home_last_team_possession', 'team_strength_home'],['away_last_team_possession', 'team_acceleration_away'],['team_acceleration_home', 'team_aggression_away'],['rolling_avg_goals_away', 'team_acceleration_home'],['strength_difference', 'team_strength_away'],['points_home', 'team_acceleration_home'],['team_strength_away', 'team_strength_away'],['goal_conversion_rate_away', 'team_aggression_away'],['acceleration_difference', 'team_acceleration_away'],['acceleration_difference', 'away_last_team_possession'],['team_acceleration_home', 'team_acceleration_home'],['points_home', 'team_aggression_away'],['points_difference', 'team_strength_away'],['team_acceleration_away', 'team_strength_away'],['points_difference', 'rolling_avg_goals_home'],['team_acceleration_away', 'team_acceleration_home'],['points_home', 'rolling_avg_goals_away'],['aggression_difference', 'team_aggression_away'],['away_last_team_possession', 'team_strength_away'],['away_last_team_possession', 'rolling_avg_goals_away'],['aggression_difference', 'team_acceleration_home'],['team_aggression_away', 'team_aggression_away'],['points_home', 'rolling_avg_goals_home'],['away_last_team_possession', 'goal_conversion_rate_away'],['acceleration_difference', 'team_strength_away'],['away_last_team_possession', 'rolling_avg_goals_home'],['acceleration_difference', 'team_aggression_away'],['away_last_team_possession', 'team_strength_home'],['home_last_team_shoton', 'rolling_avg_goals_away'],['team_acceleration_away', 'team_acceleration_away'],['aggression_difference', 'away_last_team_possession'],['team_aggression_home', 'team_strength_home'],['home_last_team_possession', 'team_acceleration_away'],['home_last_team_shoton', 'team_acceleration_away'],['rolling_avg_goals_home', 'team_strength_away'],['rolling_avg_goals_home', 'team_acceleration_away'],['points_away', 'team_strength_home'],['acceleration_difference', 'rolling_avg_goals_away'],['goal_conversion_rate_away', 'team_aggression_home'],['aggression_difference', 'aggression_difference'],['home_last_team_possession', 'team_aggression_away'],['rolling_avg_goals_home', 'team_strength_home'],['strength_difference', 'strength_difference'],['aggression_difference', 'team_aggression_home'],['strength_difference', 'team_aggression_away'],['points_away', 'rolling_avg_goals_away'],['home_last_team_goal', 'home_last_team_possession'],['goal_conversion_rate_away', 'rolling_avg_goals_home'],['team_aggression_home', 'team_strength_away'],['aggression_difference', 'team_strength_home'],['away_last_team_possession', 'home_last_team_goal'],['away_last_team_goal', 'team_strength_away'],['team_acceleration_away', 'team_strength_home'],['goal_conversion_rate_away', 'rolling_avg_goals_away'],['points_away', 'team_acceleration_home'],['points_away', 'points_difference'],['away_last_team_possession', 'team_aggression_home'],['strength_difference', 'team_acceleration_home'],['away_last_team_possession', 'away_last_team_possession'],['home_last_team_possession', 'rolling_avg_goals_home'],['home_last_team_possession', 'points_difference'],['goal_conversion_rate_away', 'points_difference'],['aggression_difference', 'home_last_team_possession'],['points_home', 'team_aggression_home'],['rolling_avg_goals_away', 'team_aggression_away'],['points_away', 'team_aggression_away'],['points_difference', 'team_aggression_away'],['away_last_team_shoton', 'home_last_team_goal'],['away_last_team_goal', 'points_difference'],['away_last_team_shoton', 'rolling_avg_goals_home'],['rolling_avg_goals_away', 'strength_difference'],['points_home', 'team_strength_away'],['goal_conversion_rate_home', 'goal_conversion_rate_home'],['aggression_difference', 'rolling_avg_goals_away'],['home_last_team_goal', 'team_aggression_away'],['rolling_avg_goals_away', 'team_strength_away'],['team_aggression_home', 'team_aggression_home'],['acceleration_difference', 'team_acceleration_away'],['acceleration_difference', 'away_last_team_possession'],['team_acceleration_home', 'team_acceleration_home'],['points_home', 'team_aggression_away'],['points_difference', 'team_strength_away'],['team_acceleration_away', 'team_strength_away'],['points_difference', 'rolling_avg_goals_home'],['team_acceleration_away', 'team_acceleration_home'],['points_home', 'rolling_avg_goals_away'],['aggression_difference', 'team_aggression_away'],['away_last_team_possession', 'team_strength_away'],['away_last_team_possession', 'rolling_avg_goals_away'],['aggression_difference', 'team_acceleration_home'],['team_aggression_away', 'team_aggression_away'],['points_home', 'rolling_avg_goals_home'],['away_last_team_possession', 'goal_conversion_rate_away'],['acceleration_difference', 'team_strength_away'],['away_last_team_possession', 'rolling_avg_goals_home'],['acceleration_difference', 'team_aggression_away'],['away_last_team_possession', 'team_strength_home'],['home_last_team_shoton', 'rolling_avg_goals_away'],['team_acceleration_away', 'team_acceleration_away'],['aggression_difference', 'away_last_team_possession'],['team_aggression_home', 'team_strength_home'],['home_last_team_possession', 'team_acceleration_away'],['home_last_team_shoton', 'team_acceleration_away'],['rolling_avg_goals_home', 'team_strength_away'],['rolling_avg_goals_home', 'team_acceleration_away'],['points_away', 'team_strength_home'],['acceleration_difference', 'rolling_avg_goals_away'],['goal_conversion_rate_away', 'team_aggression_home'],['aggression_difference', 'aggression_difference'],['home_last_team_possession', 'team_aggression_away'],['rolling_avg_goals_home', 'team_strength_home'],['strength_difference', 'strength_difference'],['aggression_difference', 'team_aggression_home'],['strength_difference', 'team_aggression_away'],['points_away', 'rolling_avg_goals_away'],['home_last_team_goal', 'home_last_team_possession'],['goal_conversion_rate_away', 'rolling_avg_goals_home'],['team_aggression_home', 'team_strength_away'],['aggression_difference', 'team_strength_home'],['away_last_team_possession', 'home_last_team_goal'],['away_last_team_goal', 'team_strength_away'],['team_acceleration_away', 'team_strength_home'],['goal_conversion_rate_away', 'rolling_avg_goals_away'],['points_away', 'team_acceleration_home'],['points_away', 'points_difference'],['away_last_team_possession', 'team_aggression_home'],['strength_difference', 'team_acceleration_home'],['away_last_team_possession', 'away_last_team_possession'],['home_last_team_possession', 'rolling_avg_goals_home'],['home_last_team_possession', 'points_difference'],['goal_conversion_rate_away', 'points_difference'],['aggression_difference', 'home_last_team_possession'],['points_home', 'team_aggression_home'],['rolling_avg_goals_away', 'team_aggression_away'],['points_away', 'team_aggression_away'],['points_difference', 'team_aggression_away'],['away_last_team_shoton', 'home_last_team_goal'],['away_last_team_goal', 'points_difference'],['away_last_team_shoton', 'rolling_avg_goals_home'],['rolling_avg_goals_away', 'strength_difference'],['points_home', 'team_strength_away'],['goal_conversion_rate_home', 'goal_conversion_rate_home'],['aggression_difference', 'rolling_avg_goals_away'],['home_last_team_goal', 'team_aggression_away'],['rolling_avg_goals_away', 'team_strength_away']\n",
    "]\n",
    "\n",
    "# Flatten function (from the example)\n",
    "def flatten(seq):\n",
    "    res = []\n",
    "    for sub in seq:\n",
    "        if isinstance(sub, list):\n",
    "            res.extend(flatten(sub))\n",
    "        else:\n",
    "            res.append(sub)\n",
    "    return res\n",
    "\n",
    "# Identify columns to keep for the constrained model\n",
    "small_cols = sorted(set(flatten(constraints)))\n",
    "small_cols"
   ],
   "id": "96e3d5166e5beb4e",
   "outputs": [
    {
     "data": {
      "text/plain": [
       "['acceleration_difference',\n",
       " 'aggression_difference',\n",
       " 'away_last_team_goal',\n",
       " 'away_last_team_possession',\n",
       " 'away_last_team_shoton',\n",
       " 'goal_conversion_rate_away',\n",
       " 'goal_conversion_rate_home',\n",
       " 'home_last_team_goal',\n",
       " 'home_last_team_possession',\n",
       " 'home_last_team_shoton',\n",
       " 'points_away',\n",
       " 'points_difference',\n",
       " 'points_home',\n",
       " 'rolling_avg_goals_away',\n",
       " 'rolling_avg_goals_home',\n",
       " 'strength_difference',\n",
       " 'team_acceleration_away',\n",
       " 'team_acceleration_home',\n",
       " 'team_aggression_away',\n",
       " 'team_aggression_home',\n",
       " 'team_strength_away',\n",
       " 'team_strength_home']"
      ]
     },
     "execution_count": 6,
     "metadata": {},
     "output_type": "execute_result"
    }
   ],
   "execution_count": 6
  },
  {
   "metadata": {
    "ExecuteTime": {
     "end_time": "2025-02-24T19:06:54.912026Z",
     "start_time": "2025-02-24T19:06:54.908322Z"
    }
   },
   "cell_type": "code",
   "source": "len(small_cols)",
   "id": "1780ab74e23e285b",
   "outputs": [
    {
     "data": {
      "text/plain": [
       "22"
      ]
     },
     "execution_count": 7,
     "metadata": {},
     "output_type": "execute_result"
    }
   ],
   "execution_count": 7
  },
  {
   "metadata": {
    "ExecuteTime": {
     "end_time": "2025-02-24T19:09:56.478246Z",
     "start_time": "2025-02-24T19:09:56.112735Z"
    }
   },
   "cell_type": "code",
   "source": [
    "xg_constraints = XGBClassifier(\n",
    "    **params,\n",
    "    random_state=42,\n",
    "    use_label_encoder=False,\n",
    "    eval_metric=\"logloss\",\n",
    "    interaction_constraints=constraints\n",
    ")\n",
    "xg_constraints.fit(X_trn, y_trn, eval_set=[(X_trn, y_trn), (X_val, y_val)], verbose=False)\n",
    "\n",
    "y_pred = xg_constraints.predict(X_tst)\n",
    "precision = precision_score(y_tst, y_pred, average=\"binary\", zero_division=0)\n",
    "precision"
   ],
   "id": "4c4e88a1308bb011",
   "outputs": [
    {
     "data": {
      "text/plain": [
       "np.float64(0.0)"
      ]
     },
     "execution_count": 10,
     "metadata": {},
     "output_type": "execute_result"
    }
   ],
   "execution_count": 10
  },
  {
   "metadata": {},
   "cell_type": "code",
   "outputs": [],
   "execution_count": null,
   "source": "",
   "id": "54a91cbc43f932ee"
  }
 ],
 "metadata": {
  "kernelspec": {
   "display_name": "Python 3",
   "language": "python",
   "name": "python3"
  },
  "language_info": {
   "codemirror_mode": {
    "name": "ipython",
    "version": 2
   },
   "file_extension": ".py",
   "mimetype": "text/x-python",
   "name": "python",
   "nbconvert_exporter": "python",
   "pygments_lexer": "ipython2",
   "version": "2.7.6"
  }
 },
 "nbformat": 4,
 "nbformat_minor": 5
}
